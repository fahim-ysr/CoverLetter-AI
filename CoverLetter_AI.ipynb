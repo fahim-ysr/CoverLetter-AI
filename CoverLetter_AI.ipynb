{
 "cells": [
  {
   "cell_type": "code",
   "execution_count": 82,
   "id": "dd28c8d3-7911-4ece-9064-da4706dc0fbf",
   "metadata": {},
   "outputs": [],
   "source": [
    "# Required Dependencies:\n",
    "\n",
    "# pip install chromadb\n",
    "# pip install langchain_groq\n"
   ]
  },
  {
   "cell_type": "code",
   "execution_count": 84,
   "id": "e84289fe-68bd-4036-8161-ab0eecedefac",
   "metadata": {},
   "outputs": [],
   "source": [
    "# Importing required modules\n",
    "from langchain_groq import ChatGroq"
   ]
  },
  {
   "cell_type": "code",
   "execution_count": 86,
   "id": "25a7d7d0-06f6-4037-a2eb-19ca7bd3b180",
   "metadata": {},
   "outputs": [],
   "source": [
    "# Extracts the Groq API Key from '.env.local' file\n",
    "\n",
    "import os                                                                                                                                                                                                          \n",
    "from dotenv import load_dotenv, find_dotenv\n",
    "from pathlib import Path\n",
    "load_dotenv(Path(\".env.local\"))\n",
    "KEY = os.getenv(\"GROQ_API_KEY\")"
   ]
  },
  {
   "cell_type": "code",
   "execution_count": 92,
   "id": "197d1ba3-4db7-4be0-9a4b-7335bdb0a772",
   "metadata": {},
   "outputs": [
    {
     "name": "stdout",
     "output_type": "stream",
     "text": [
      "The richest man in the world of all time is a matter of debate among historians and economists, as the concept of wealth and its measurement have changed over time. However, according to various sources, including Forbes and other financial publications, the richest man in the world of all time is often considered to be:\n",
      "\n",
      "1. **Mansa Musa I** (1280-1337): The king of the Mali Empire, who ruled over a vast territory in West Africa during the 14th century. His wealth is estimated to be around $400 billion in today's dollars, making him the richest person in history. His wealth came from the rich gold and salt mines in his kingdom, as well as from the lucrative trade routes that passed through his territory.\n",
      "\n",
      "Other contenders for the title of richest man in the world of all time include:\n",
      "\n",
      "2. **John D. Rockefeller** (1839-1937): The American oil industry magnate and founder of Standard Oil, who was estimated to be worth around $336 billion in today's dollars.\n",
      "3. **Andrew Carnegie** (1835-1919): The Scottish-American industrialist and philanthropist, who made his fortune in the steel industry and was estimated to be worth around $309 billion in today's dollars.\n",
      "4. **Akbar the Great** (1542-1605): The Mughal emperor of India, who was estimated to be worth around $290 billion in today's dollars, thanks to his vast empire and control of the Indian subcontinent's rich resources.\n",
      "5. **Genghis Khan** (1162-1227): The Mongol emperor, who was estimated to be worth around $230 billion in today's dollars, thanks to his vast conquests and control of the Silk Road trade routes.\n",
      "\n",
      "Note: These estimates are based on various sources and should be used as a rough guide only, as the concept of wealth and its measurement have changed over time.\n",
      "\n",
      " ***Preambled Answer***\n",
      "\n",
      "Mansa Musa I of the Mali Empire, with an estimated net worth of $400 billion.\n"
     ]
    }
   ],
   "source": [
    "# Testing if ChatGroq is running correctly\n",
    "\n",
    "llm = ChatGroq(\n",
    "    model= 'llama-3.3-70b-versatile',\n",
    "    temperature= 0,\n",
    "    groq_api_key= KEY,\n",
    "    max_tokens= None,\n",
    "    timeout= None,\n",
    "    max_retries= 2,\n",
    "    # Other Parameters...\n",
    ")\n",
    "\n",
    "answer = llm.invoke(\"Who is the richest man in the world of all time?\")\n",
    "print(answer.content)\n",
    "print(\"\\n ***Preambled Answer***\\n\")\n",
    "answer = llm.invoke(\"Who is the richest man in the world of all time?, no preamble\")\n",
    "print(answer.content)"
   ]
  },
  {
   "cell_type": "code",
   "execution_count": null,
   "id": "e169230e-96d2-41b1-b40e-c97d36099c56",
   "metadata": {},
   "outputs": [],
   "source": []
  }
 ],
 "metadata": {
  "kernelspec": {
   "display_name": "Python 3 (ipykernel)",
   "language": "python",
   "name": "python3"
  },
  "language_info": {
   "codemirror_mode": {
    "name": "ipython",
    "version": 3
   },
   "file_extension": ".py",
   "mimetype": "text/x-python",
   "name": "python",
   "nbconvert_exporter": "python",
   "pygments_lexer": "ipython3",
   "version": "3.12.3"
  }
 },
 "nbformat": 4,
 "nbformat_minor": 5
}
